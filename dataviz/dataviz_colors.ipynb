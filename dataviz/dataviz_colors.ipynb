{
 "cells": [
  {
   "metadata": {
    "ExecuteTime": {
     "end_time": "2025-10-29T09:26:34.248363Z",
     "start_time": "2025-10-29T09:26:34.243368Z"
    }
   },
   "cell_type": "markdown",
   "source": [
    "# Color Distribution Visualization\n",
    "\n",
    "This notebook analyses the chromatic composition of individual commercials in the dataset.\n",
    "It generates interactive **Sunburst** and **Marimekko** charts that highlight how colors are distributed across scenes and mapped to hierarchical palettes (Basic, Essential, Extended).\n"
   ],
   "id": "f55fa7aef1371a89"
  },
  {
   "metadata": {},
   "cell_type": "code",
   "source": [
    "import altair as alt\n",
    "import ast\n",
    "import os\n",
    "import pandas as pd\n",
    "import plotly.express as px"
   ],
   "id": "76c04e460692542d",
   "outputs": [],
   "execution_count": null
  },
  {
   "metadata": {},
   "cell_type": "code",
   "source": [
    "# %run utils/altair_coal_theme.py\n",
    "alt.data_transformers.enable('default', max_rows=None)  # can read more than 5000 rows"
   ],
   "id": "4c8bae850c19139f",
   "outputs": [],
   "execution_count": null
  },
  {
   "metadata": {},
   "cell_type": "markdown",
   "source": "## Reference palettes",
   "id": "ca6f1f3f2694f751"
  },
  {
   "metadata": {},
   "cell_type": "markdown",
   "source": [
    "Before visualization, the data are normalized and joined with palette definitions.\n",
    "This step ensures consistent color naming across Basic, Essential, and Extended palettes.\n"
   ],
   "id": "e53bbf550a127ec7"
  },
  {
   "metadata": {},
   "cell_type": "code",
   "source": [
    "# Create _export/colors folder\n",
    "os.makedirs('_export/colors', exist_ok=True)"
   ],
   "id": "437bd5601205c140",
   "outputs": [],
   "execution_count": null
  },
  {
   "metadata": {},
   "cell_type": "code",
   "source": [
    "commercials_df: pd.DataFrame = pd.read_csv('../general/commercials.csv')\n",
    "reference_palette_hierarchy_df = pd.read_csv('../colors/reference_palette_hierarchy.csv')\n",
    "# reference_palette_hierarchy_df"
   ],
   "id": "305eda430e6636c9",
   "outputs": [],
   "execution_count": null
  },
  {
   "metadata": {},
   "cell_type": "code",
   "source": [
    "# Sort for spectrum colors\n",
    "reference_palette_hierarchy_df['ext_l'] = reference_palette_hierarchy_df['ext_oklch_coords'].apply(\n",
    "    lambda x: ast.literal_eval(x)[0])\n",
    "reference_palette_hierarchy_df['ext_h'] = reference_palette_hierarchy_df['ext_oklch_coords'].apply(\n",
    "    lambda x: ast.literal_eval(x)[2])\n",
    "reference_palette_hierarchy_df"
   ],
   "id": "9c6989821520c92e",
   "outputs": [],
   "execution_count": null
  },
  {
   "metadata": {},
   "cell_type": "code",
   "source": [
    "reference_palette_hierarchy_df.sort_values(by=['ext_l'], ascending=[True], inplace=True)\n",
    "spectrum_df = reference_palette_hierarchy_df.loc[\n",
    "    ~reference_palette_hierarchy_df['bas_color_name'].isin(['white', 'black', 'grey'])].reset_index(\n",
    "    drop=True)\n",
    "greys_df = reference_palette_hierarchy_df.loc[\n",
    "    reference_palette_hierarchy_df['bas_color_name'].isin(['white', 'black', 'grey'])].reset_index(drop=True)\n",
    "# Define your order\n",
    "spectrum_df['h_mean'] = spectrum_df.groupby(['bas_color_name'])['ext_h'].transform('mean')\n",
    "spectrum_df['count'] = spectrum_df.groupby(['bas_color_name'])['bas_color_name'].transform('count')\n",
    "# Scale order\n",
    "spectrum_df['order'] = 1 / spectrum_df['count'] * (10000 + (1 - spectrum_df['h_mean'])) / 10000\n",
    "#\n",
    "greys_df['l_mean'] = greys_df.groupby(['bas_color_name'])['ext_l'].transform('mean')\n",
    "greys_df['count'] = greys_df.groupby(['bas_color_name'])['bas_color_name'].transform('count')\n",
    "# Scale order\n",
    "greys_df['order'] = 1 / greys_df['count'] * (10000 + greys_df['l_mean']) / 10000\n",
    "\n",
    "# spectrum_df"
   ],
   "id": "dd8d093312bcde85",
   "outputs": [],
   "execution_count": null
  },
  {
   "metadata": {},
   "cell_type": "code",
   "outputs": [],
   "execution_count": null,
   "source": "# greys_df",
   "id": "a5ae72d6d6a80067"
  },
  {
   "metadata": {},
   "cell_type": "code",
   "source": [
    "for index, df in enumerate([spectrum_df, greys_df, pd.concat([spectrum_df, greys_df])]):\n",
    "    # Create colour map\n",
    "    colorMapSubset = dict(zip(df['ext_color_name'], df['ext_hex_code']))\n",
    "    # print(colorMapSubset)\n",
    "    fig = px.sunburst(\n",
    "        data_frame=df,\n",
    "        path=['bas_color_name', 'ess_color_name', 'ext_color_name', ],\n",
    "        values='order',\n",
    "        # color='closest_essential_hex_color_code',\n",
    "        # color_discrete_map=colorMapSubset,\n",
    "        width=600,\n",
    "        height=600,\n",
    "        hover_name='ext_hex_code',\n",
    "    )\n",
    "    fig.update_traces(\n",
    "        marker_line_width=0.0,\n",
    "        marker_line_color=None,\n",
    "        leaf=dict(opacity=1),\n",
    "        marker_colors=[colorMapSubset[cat] for cat in fig.data[-1].labels],\n",
    "        sort=True,\n",
    "        branchvalues='total',\n",
    "        count='branches',\n",
    "        labels=[x if '_' not in x else '' for x in fig.data[-1]['labels']],\n",
    "        insidetextorientation='radial',\n",
    "    )\n",
    "    fig.write_image(f'_export/colors/color-wheel-{index}-start.pdf')\n",
    "    fig.show()"
   ],
   "id": "9eed0381bbcb602",
   "outputs": [],
   "execution_count": null
  },
  {
   "metadata": {},
   "cell_type": "markdown",
   "source": "## Commercial palettes",
   "id": "74c1947d3a3f24a7"
  },
  {
   "metadata": {},
   "cell_type": "code",
   "source": [
    "# Load all commercial palettes\n",
    "commercial_palettes_df: pd.DataFrame = pd.read_csv('../colors/commercial_palettes.csv')\n",
    "# commercial_palettes_df"
   ],
   "id": "8a9331d68622b508",
   "outputs": [],
   "execution_count": null
  },
  {
   "metadata": {},
   "cell_type": "markdown",
   "source": "**Select a commercial**",
   "id": "10d9faff358c5735"
  },
  {
   "metadata": {},
   "cell_type": "code",
   "source": "sample_commercial_id:str = 'gSnVME7YCVQ'",
   "id": "f2af1d1530f399bd",
   "outputs": [],
   "execution_count": null
  },
  {
   "metadata": {},
   "cell_type": "markdown",
   "source": "### Sunburst charts",
   "id": "dbc8615c91dd1e8a"
  },
  {
   "metadata": {},
   "cell_type": "markdown",
   "source": [
    "The Sunburst chart represents the hierarchical structure of color palettes for the selected spot.\n",
    "Inner rings correspond to higher-level categories (Basic palette), while outer rings expand into Essential and Extended tones.\n"
   ],
   "id": "dcb3a9c888ede4d2"
  },
  {
   "metadata": {},
   "cell_type": "code",
   "source": [
    "# Sunburst for commercial with id 'gSnVME7YCVQ'\n",
    "filtered_commercials_df: pd.DataFrame = commercials_df[commercials_df['commercial_id'] == sample_commercial_id]\n",
    "filtered_commercials_df"
   ],
   "id": "81c2de0d2e9b7625",
   "outputs": [],
   "execution_count": null
  },
  {
   "metadata": {},
   "cell_type": "code",
   "source": [
    "filtered_commercials_palettes_df: pd.DataFrame = commercial_palettes_df[\n",
    "    commercial_palettes_df['commercial_id'].isin(filtered_commercials_df['commercial_id'])]\n",
    "filtered_commercials_palettes_df = filtered_commercials_palettes_df.merge(filtered_commercials_df, on='commercial_id')\n",
    "filtered_commercials_palettes_df[filtered_commercials_palettes_df['commercial_id'] == sample_commercial_id]"
   ],
   "id": "52058e17dae3a07b",
   "outputs": [],
   "execution_count": null
  },
  {
   "metadata": {},
   "cell_type": "code",
   "source": [
    "# Keep only some columns\n",
    "reduced_filtered_commercials_palettes_df = filtered_commercials_palettes_df[[\n",
    "    'commercial_id',\n",
    "    'closest_color_ext_pal',\n",
    "    'closest_color_ess_pal',\n",
    "    'closest_color_bas_pal',\n",
    "    'tf',\n",
    "]]\n",
    "# reduced_filtered_commercials_palettes_df\n",
    "reduced_filtered_commercials_palettes_df[reduced_filtered_commercials_palettes_df['commercial_id'] == sample_commercial_id]\n"
   ],
   "id": "e35fd5d2b443fc4a",
   "outputs": [],
   "execution_count": null
  },
  {
   "metadata": {},
   "cell_type": "code",
   "source": [
    "# Join the commercial_palettes_df with idf of closest_color_ext_pal\n",
    "ext_pal_idfs_df: pd.DataFrame = pd.read_csv(\n",
    "    '../colors/extended_palette_idfs.csv',\n",
    "    usecols=['closest_color_ext_pal', 'idf']\n",
    ")\n",
    "ess_pal_idfs_df: pd.DataFrame = pd.read_csv(\n",
    "    '../colors/essential_palette_idfs.csv',\n",
    "    usecols=['closest_color_ess_pal', 'idf']\n",
    ")\n",
    "bas_pal_idfs_df: pd.DataFrame = pd.read_csv(\n",
    "    '../colors/basic_palette_idfs.csv',\n",
    "    usecols=['closest_color_bas_pal', 'idf']\n",
    ")"
   ],
   "id": "5571bc36b6f644af",
   "outputs": [],
   "execution_count": null
  },
  {
   "metadata": {},
   "cell_type": "code",
   "source": [
    "# Extended\n",
    "enriched_ext_df: pd.DataFrame = reduced_filtered_commercials_palettes_df.join(\n",
    "    ext_pal_idfs_df.set_index('closest_color_ext_pal'),\n",
    "    on='closest_color_ext_pal')\n",
    "enriched_ext_df = enriched_ext_df.merge(\n",
    "    reference_palette_hierarchy_df, left_on='closest_color_ext_pal', right_on='ext_color_name',\n",
    "    how='left')\n",
    "\n",
    "enriched_ext_df['ext_tf_idf'] = enriched_ext_df['tf'] * enriched_ext_df['idf']\n",
    "# Keep only 1 extended color\n",
    "enriched_ext_df.drop_duplicates(subset=['commercial_id', 'closest_color_ext_pal'], inplace=True)\n",
    "enriched_ext_df\n",
    "enriched_ext_df[enriched_ext_df['commercial_id'] == sample_commercial_id]"
   ],
   "id": "492f5820ba58bcbd",
   "outputs": [],
   "execution_count": null
  },
  {
   "metadata": {},
   "cell_type": "code",
   "source": [
    "# Essential\n",
    "enriched_ess_df = reduced_filtered_commercials_palettes_df.join(ess_pal_idfs_df.set_index('closest_color_ess_pal'),\n",
    "                                                                on='closest_color_ess_pal')\n",
    "enriched_ess_df = enriched_ess_df.merge(\n",
    "    reference_palette_hierarchy_df, left_on='closest_color_ess_pal', right_on='ess_color_name',\n",
    "    how='left').drop('ess_color_name', axis=1)\n",
    "enriched_ess_df['ess_tf_idf'] = enriched_ess_df['tf'] * enriched_ess_df['idf']\n",
    "# Keep only 1 extended color\n",
    "enriched_ess_df.drop_duplicates(subset=['commercial_id', 'closest_color_ext_pal', 'closest_color_ess_pal'],\n",
    "                                inplace=True)\n",
    "enriched_ess_df"
   ],
   "id": "9d7cf9a197213008",
   "outputs": [],
   "execution_count": null
  },
  {
   "metadata": {},
   "cell_type": "code",
   "source": [
    "# Basic\n",
    "enriched_bas_df = reduced_filtered_commercials_palettes_df.join(\n",
    "    bas_pal_idfs_df.set_index('closest_color_bas_pal'),\n",
    "    on='closest_color_bas_pal')\n",
    "enriched_bas_df"
   ],
   "id": "6d20923309471cd2",
   "outputs": [],
   "execution_count": null
  },
  {
   "metadata": {},
   "cell_type": "code",
   "source": [
    "enriched_bas_df = enriched_bas_df.merge(\n",
    "    reference_palette_hierarchy_df, left_on='closest_color_bas_pal', right_on='bas_color_name',\n",
    "    how='left').drop('bas_color_name', axis=1)\n",
    "enriched_bas_df['bas_tf_idf'] = enriched_bas_df['tf'] * enriched_bas_df['idf']\n",
    "# Keep only 1 extended color\n",
    "enriched_bas_df.drop_duplicates(\n",
    "    subset=['commercial_id', 'closest_color_ext_pal', 'closest_color_ess_pal', 'closest_color_bas_pal'],\n",
    "    inplace=True)\n",
    "enriched_bas_df"
   ],
   "id": "7e3078f10af951bc",
   "outputs": [],
   "execution_count": null
  },
  {
   "metadata": {
    "ExecuteTime": {
     "end_time": "2025-10-28T21:17:22.238837Z",
     "start_time": "2025-10-28T21:17:22.236503Z"
    }
   },
   "cell_type": "markdown",
   "source": "Generate sunburst for the selected sample commercial",
   "id": "71aa18465006d2d9"
  },
  {
   "metadata": {},
   "cell_type": "code",
   "source": [
    "# Create colour map from reference palettes\n",
    "ref_color_map_subset: dict[str, str] = dict(\n",
    "    zip(reference_palette_hierarchy_df['ext_color_name'], reference_palette_hierarchy_df['ext_hex_code']))\n",
    "ref_color_map_subset"
   ],
   "id": "8aa004a7aa833d11",
   "outputs": [],
   "execution_count": null
  },
  {
   "metadata": {},
   "cell_type": "code",
   "source": [
    "reference_palettes_tf_idfs = {\n",
    "    'without_tf_idf': {'df': enriched_ext_df, 'values': 'tf'},\n",
    "    'extended_tf_idf': {'df': enriched_ext_df, 'values': 'ext_tf_idf'},\n",
    "    'essential_tf_idf': {'df': enriched_ess_df, 'values': 'ess_tf_idf'},\n",
    "    'basic_tf_idf': {'df': enriched_bas_df, 'values': 'bas_tf_idf'},\n",
    "}"
   ],
   "id": "430b4ed497768aa4",
   "outputs": [],
   "execution_count": null
  },
  {
   "metadata": {},
   "cell_type": "code",
   "source": [
    "for index, row in filtered_commercials_df.iterrows():\n",
    "    commercial_id: str = row['commercial_id']\n",
    "\n",
    "    # Create commercial_color_chart_folder\n",
    "    commercial_color_chart_folder: str = f'_export/colors/{commercial_id}'\n",
    "    os.makedirs(commercial_color_chart_folder, exist_ok=True)\n",
    "    for key, value in reference_palettes_tf_idfs.items():\n",
    "        fig = px.sunburst(\n",
    "            data_frame=value['df'][value['df']['commercial_id'] == commercial_id],\n",
    "            path=['closest_color_bas_pal', 'closest_color_ess_pal', 'closest_color_ext_pal'],\n",
    "            values=value['values'],\n",
    "            width=600,\n",
    "            height=600,\n",
    "            title=key,\n",
    "        )\n",
    "        fig.update_traces(\n",
    "            marker_line_width=0.0,\n",
    "            marker_line_color=None,\n",
    "            leaf=dict(opacity=1),\n",
    "            marker_colors=[ref_color_map_subset[cat] for cat in fig.data[-1].labels],\n",
    "            sort=True,\n",
    "            branchvalues='total',\n",
    "            count='branches',\n",
    "            labels=[''] * len(fig.data[-1]['labels']),  # hide labels\n",
    "            # labels=[x if '_' not in x else '' for x in fig.data[-1]['labels']],\n",
    "            hovertemplate='%{color}',\n",
    "        )\n",
    "        # fig.show()\n",
    "        # os.makedirs('_export', exist_ok=True)\n",
    "        fig.write_image(f'{commercial_color_chart_folder}/{commercial_id}.sunburst.{key}.pdf')"
   ],
   "id": "934a13d4a5688b15",
   "outputs": [],
   "execution_count": null
  },
  {
   "metadata": {},
   "cell_type": "markdown",
   "source": "You will find pdfs of the exported sunbursts in the `_export/colors/<sample_commercial_id>` folder",
   "id": "8e627c180184e98e"
  },
  {
   "metadata": {},
   "cell_type": "markdown",
   "source": "### Marimekko diagrams",
   "id": "5b4ad86e498f5f0f"
  },
  {
   "metadata": {},
   "cell_type": "markdown",
   "source": "This chart shows the relative proportion of dominant colors within the same spot. The width of each bar encodes the frequency of color occurrence in a scene.\n",
   "id": "16292a491b246a8e"
  },
  {
   "metadata": {},
   "cell_type": "code",
   "source": "enriched_ext_df",
   "id": "d7423e76a3b186f9",
   "outputs": [],
   "execution_count": null
  },
  {
   "metadata": {},
   "cell_type": "code",
   "source": "commercial_palettes_df",
   "id": "6f1837d45f11747a",
   "outputs": [],
   "execution_count": null
  },
  {
   "metadata": {},
   "cell_type": "code",
   "source": [
    "for index, row in filtered_commercials_df.iterrows():\n",
    "    commercial_id: str = row['commercial_id']\n",
    "    # Create commercial_color_chart_folder\n",
    "    commercial_color_chart_folder: str = f'_export/colors/{commercial_id}'\n",
    "    os.makedirs(commercial_color_chart_folder, exist_ok=True)\n",
    "    product_type_key = row['product_type_key']\n",
    "    nice_class = row['nice_class']\n",
    "    # duration_in_seconds = row['duration_in_seconds']\n",
    "    source = row['source']\n",
    "    ## Get the palette from commercial_id\n",
    "    commercial_palette_df: pd.DataFrame = commercial_palettes_df[\n",
    "        commercial_palettes_df['commercial_id'] == commercial_id]\n",
    "    # commercial_palette_df\n",
    "    commercial_palette_df.columns\n",
    "    ### Enrich commercial palette with hex_code of closest_color_ext_pal\n",
    "    enriched_commercial_palette_df = commercial_palette_df.set_index(['commercial_id', 'closest_color_ext_pal']).join(\n",
    "        enriched_ext_df[['commercial_id', 'closest_color_ext_pal', 'ext_tf_idf', 'ext_oklch_coords']].set_index(\n",
    "            ['commercial_id', 'closest_color_ext_pal']),\n",
    "    )\n",
    "    enriched_commercial_palette_df.reset_index(inplace=True)\n",
    "    print(len(enriched_commercial_palette_df))\n",
    "    enriched_commercial_palette_df\n",
    "    enriched_commercial_palette_df['ext_l'] = enriched_commercial_palette_df['ext_oklch_coords'].apply(\n",
    "        lambda x: ast.literal_eval(x)[0])\n",
    "    enriched_commercial_palette_df['ext_c'] = enriched_commercial_palette_df['ext_oklch_coords'].apply(\n",
    "        lambda x: ast.literal_eval(x)[1])\n",
    "    enriched_commercial_palette_df['ext_h'] = enriched_commercial_palette_df['ext_oklch_coords'].apply(\n",
    "        lambda x: ast.literal_eval(x)[2])\n",
    "    enriched_commercial_palette_df\n",
    "    ## Find new 1st and last scene\n",
    "\n",
    "    # Count scenes\n",
    "    scene_count: int = len(enriched_commercial_palette_df['scene'].unique())\n",
    "    first_scene: int = enriched_commercial_palette_df['scene'].min()\n",
    "    last_scene: int = enriched_commercial_palette_df['scene'].max()\n",
    "    enriched_commercial_palette_df['scene'].unique()\n",
    "    original_colors_marimekko = (alt.Chart(\n",
    "        enriched_commercial_palette_df[\n",
    "            ['scene', 'hex_code', 'frequency_within_the_scene', 'start_frame', 'end_frame',\n",
    "             'ext_l',\n",
    "             'ext_c',\n",
    "             'ext_h',\n",
    "             ]\n",
    "        ]\n",
    "    ).mark_rect(\n",
    "        tooltip=True,\n",
    "        opacity=1,\n",
    "        # clip=True,\n",
    "    )\n",
    "    .encode(\n",
    "        x=alt.X(\n",
    "            'start_frame:Q',\n",
    "            title='Frames',\n",
    "            # title=None,\n",
    "            scale=alt.Scale(\n",
    "                padding=0,\n",
    "                domainMin=enriched_commercial_palette_df['start_frame'].min(),\n",
    "                domainMax=enriched_commercial_palette_df['end_frame'].max(),\n",
    "            ),\n",
    "            axis=None,\n",
    "        ),\n",
    "        x2=alt.X2('end_frame:Q'),\n",
    "        y=alt.Y(\n",
    "            'start_freq:Q',\n",
    "            title=None,\n",
    "            scale=alt.Scale(padding=0),\n",
    "            axis=None,\n",
    "        ),\n",
    "        y2=alt.Y2(\n",
    "            'end_freq:Q',\n",
    "        ),\n",
    "        color=alt.Color(\n",
    "            'hex_code:N',\n",
    "            scale=None,\n",
    "        ),\n",
    "        # tooltip=['scene', 'hex_code', 'closest_cm_color_name', 'frequency'],\n",
    "        tooltip=[\n",
    "            alt.Tooltip(\n",
    "                'scene',\n",
    "                title='Scene',\n",
    "            ),\n",
    "            alt.Tooltip(\n",
    "                'hex_code',\n",
    "                title='Hex color code',\n",
    "            ),\n",
    "            alt.Tooltip(\n",
    "                'frequency_within_the_scene',\n",
    "                title='Frequency within the scene',\n",
    "            ),\n",
    "        ],\n",
    "    ).transform_stack(\n",
    "        stack='frequency_within_the_scene',\n",
    "        groupby=['scene'],\n",
    "        as_=['start_freq', 'end_freq'],\n",
    "    ).properties(\n",
    "        width=400,\n",
    "        height=400,\n",
    "    ))\n",
    "    original_colors_marimekko_hue = original_colors_marimekko.transform_stack(\n",
    "        stack='frequency_within_the_scene',\n",
    "        groupby=['scene'],\n",
    "        as_=['start_freq', 'end_freq'],\n",
    "        sort=[\n",
    "            # l, h, c\n",
    "            alt.SortField('ext_h', order='ascending'),\n",
    "            alt.SortField('ext_l', order='ascending'),\n",
    "            alt.SortField('ext_c', order='ascending'),\n",
    "        ],\n",
    "    )\n",
    "\n",
    "    original_colors_marimekko_lightness = original_colors_marimekko.transform_stack(\n",
    "        stack='frequency_within_the_scene',\n",
    "        groupby=['scene'],\n",
    "        as_=['start_freq', 'end_freq'],\n",
    "        sort=[\n",
    "            # l, h, c\n",
    "            alt.SortField('ext_l', order='ascending'),\n",
    "            alt.SortField('ext_h', order='ascending'),\n",
    "            alt.SortField('ext_c', order='ascending'),\n",
    "        ],\n",
    "    )\n",
    "\n",
    "    ## Save charts to PDF\n",
    "\n",
    "    ### Original\n",
    "\n",
    "    original_colors_marimekko.configure_axis(grid=False).configure_view(stroke=None).properties(width='container',\n",
    "                                                                                                height='container').save(\n",
    "        f'{commercial_color_chart_folder}/{commercial_id}.marimekko.original.pdf')\n",
    "\n",
    "    ### Ordered by hue\n",
    "\n",
    "    original_colors_marimekko_hue.configure_axis(grid=False).configure_view(stroke=None).properties(width='container',\n",
    "                                                                                                    height='container').save(\n",
    "        f'{commercial_color_chart_folder}/{commercial_id}.marimekko.by_hue.pdf')\n",
    "\n",
    "    ### Ordered by lightness\n",
    "\n",
    "    marimekko_charts_by_lightness_folder: str = f'_export/colors/{commercial_id}'\n",
    "    os.makedirs(marimekko_charts_by_lightness_folder, exist_ok=True)\n",
    "    original_colors_marimekko_lightness.configure_axis(grid=False).configure_view(stroke=None).properties(\n",
    "        width='container', height='container').save(\n",
    "        f'{commercial_color_chart_folder}/{commercial_id}.marimekko.by_lightness.pdf')\n"
   ],
   "id": "5f1a4191926fb936",
   "outputs": [],
   "execution_count": null
  },
  {
   "metadata": {},
   "cell_type": "markdown",
   "source": "You will find pdfs of the exported marimekko charts in the `_export/colors/<sample_commercial_id>` folder",
   "id": "40962dd47127937e"
  },
  {
   "metadata": {},
   "cell_type": "code",
   "outputs": [],
   "execution_count": null,
   "source": [
    "# original_colors_marimekko.configure_axis(grid=False).configure_view(stroke=None)\n",
    "# original_colors_marimekko"
   ],
   "id": "e6138bbdf2894343"
  },
  {
   "metadata": {},
   "cell_type": "code",
   "outputs": [],
   "execution_count": null,
   "source": "# original_colors_marimekko_hue",
   "id": "3bc037ebad4cead1"
  },
  {
   "metadata": {},
   "cell_type": "code",
   "outputs": [],
   "execution_count": null,
   "source": "# original_colors_marimekko_lightness",
   "id": "59dba7326c2cf635"
  },
  {
   "metadata": {},
   "cell_type": "code",
   "source": "",
   "id": "e882f52e1ecfa019",
   "outputs": [],
   "execution_count": null
  }
 ],
 "metadata": {
  "kernelspec": {
   "display_name": "Python 3 (ipykernel)",
   "language": "python",
   "name": "python3"
  },
  "language_info": {
   "codemirror_mode": {
    "name": "ipython",
    "version": 2
   },
   "file_extension": ".py",
   "mimetype": "text/x-python",
   "name": "python",
   "nbconvert_exporter": "python",
   "pygments_lexer": "ipython2",
   "version": "2.7.6"
  }
 },
 "nbformat": 4,
 "nbformat_minor": 5
}
